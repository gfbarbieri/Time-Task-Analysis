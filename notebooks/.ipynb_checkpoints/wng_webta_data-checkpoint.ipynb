{
 "cells": [
  {
   "cell_type": "markdown",
   "metadata": {},
   "source": [
    "### Import Libraries"
   ]
  },
  {
   "cell_type": "code",
   "execution_count": 1,
   "metadata": {},
   "outputs": [],
   "source": [
    "import pandas as pd"
   ]
  },
  {
   "cell_type": "markdown",
   "metadata": {},
   "source": [
    "### Create Base File Path and Sheet Names"
   ]
  },
  {
   "cell_type": "code",
   "execution_count": 2,
   "metadata": {},
   "outputs": [],
   "source": [
    "base_file_path = \"20180401_20190622.xlsx\""
   ]
  },
  {
   "cell_type": "code",
   "execution_count": 3,
   "metadata": {},
   "outputs": [],
   "source": [
    "sheets = []\n",
    "\n",
    "for i in range(1,33):\n",
    "    sheet = 'Sheet{}'.format(i)\n",
    "    sheets.append(sheet)"
   ]
  },
  {
   "cell_type": "markdown",
   "metadata": {},
   "source": [
    "### Define Functions"
   ]
  },
  {
   "cell_type": "code",
   "execution_count": 4,
   "metadata": {},
   "outputs": [],
   "source": [
    "def setDateTime(row, sheet):\n",
    "    sheet_num = int(sheet[5:])\n",
    "    dow, md  = row['Date'].split(\" \", 2)\n",
    "    month, day = md.split(\"/\", 2)\n",
    "    \n",
    "    if sheet_num < 20:\n",
    "        year = 2018\n",
    "    elif sheet_num == 20:\n",
    "        if int(month) == 1:\n",
    "            year = 2019\n",
    "        else:\n",
    "            year = 2018\n",
    "    elif sheet_num > 20:\n",
    "        year = 2019\n",
    "\n",
    "    dt_in = '{}-{}-{} {}'.format(year, month, day, row['Time In'])\n",
    "    dt_out = '{}-{}-{} {}'.format(year, month, day, row['Time Out'])\n",
    "    \n",
    "    ts_date = pd.Timestamp(dt_in).strftime('%Y-%m-%d')\n",
    "    ts_in = pd.Timestamp(dt_in).strftime('%Y-%m-%d %H:%M:%S')\n",
    "    ts_out = pd.Timestamp(dt_out).strftime('%Y-%m-%d %H:%M:%S')\n",
    "\n",
    "    return ts_date, ts_in, ts_out"
   ]
  },
  {
   "cell_type": "markdown",
   "metadata": {},
   "source": [
    "### Data Wrangling"
   ]
  },
  {
   "cell_type": "markdown",
   "metadata": {},
   "source": [
    "Import Data"
   ]
  },
  {
   "cell_type": "code",
   "execution_count": 27,
   "metadata": {},
   "outputs": [
    {
     "name": "stdout",
     "output_type": "stream",
     "text": [
      "Sheet1\n"
     ]
    }
   ],
   "source": [
    "xlsx = pd.ExcelFile('../data/{}'.format(base_file_path))\n",
    "sheets = xlsx.sheet_names\n",
    "\n",
    "for sheet in sheets[0:1]:\n",
    "    print(sheet)\n",
    "    df = pd.read_excel(xlsx, sheet_name=sheet, skiprows=2)"
   ]
  },
  {
   "cell_type": "markdown",
   "metadata": {},
   "source": [
    "Handle Missing Data"
   ]
  },
  {
   "cell_type": "code",
   "execution_count": 7,
   "metadata": {},
   "outputs": [],
   "source": [
    "df_na = df.dropna(axis=0, how='all')\n",
    "\n",
    "df_na = df_na.loc[df['Transaction'].isna() == False]\n",
    "\n",
    "df_na[['Date','Shift Total','Daily Total']] = df_na[['Date','Shift Total','Daily Total']].shift(+1)\n",
    "\n",
    "df_na = df_na.loc[(df_na['Date'].isna() == False) &\n",
    "                  (df_na['Date'] != 'Date')]"
   ]
  },
  {
   "cell_type": "markdown",
   "metadata": {},
   "source": [
    "Handle Date and Time"
   ]
  },
  {
   "cell_type": "code",
   "execution_count": 8,
   "metadata": {},
   "outputs": [],
   "source": [
    "df_dt = df_na.copy()\n",
    "\n",
    "df_dt[['Date','time_in','time_out']] = df_dt.apply(setDateTime, axis=1, result_type='expand', args=(sheet,))"
   ]
  },
  {
   "cell_type": "markdown",
   "metadata": {},
   "source": [
    "Handle Transactions\n",
    "\n",
    "'01 - Regular Base Pay',\n",
    "'29 - Credit Hours Worked-Regular Time',\n",
    "'50 - Credit Hours Used',\n",
    "'61 - Annual Leave Taken',\n",
    "'62 - Sick Leave Taken',\n",
    "'66 - Administrative Leave - Agency Directed',\n",
    "'66 - Other Leave-Federal Holiday',\n",
    "'66 - Paid Time Off for Holiday',\n",
    "'66 - Weather and Safety Leave'"
   ]
  },
  {
   "cell_type": "code",
   "execution_count": 10,
   "metadata": {},
   "outputs": [],
   "source": [
    "df_tr = df_dt.loc[(df_dt['Transaction'] == '01 - Regular Base Pay') |\n",
    "                  (df_dt['Transaction'] == '29 - Credit Hours Worked-Regular Time')]"
   ]
  },
  {
   "cell_type": "code",
   "execution_count": 11,
   "metadata": {},
   "outputs": [],
   "source": [
    "df_tr['time_out'] = df_tr.groupby(by=['Date'])['time_out'].transform(max)"
   ]
  },
  {
   "cell_type": "code",
   "execution_count": 12,
   "metadata": {},
   "outputs": [],
   "source": [
    "df_tr = df_tr.loc[(df_tr['Transaction'] == '01 - Regular Base Pay')]"
   ]
  },
  {
   "cell_type": "markdown",
   "metadata": {},
   "source": [
    "Finalize Columns"
   ]
  },
  {
   "cell_type": "code",
   "execution_count": 14,
   "metadata": {},
   "outputs": [],
   "source": [
    "df_in = df_tr[['time_in']].copy()\n",
    "df_out = df_tr[['time_out']].copy()"
   ]
  },
  {
   "cell_type": "code",
   "execution_count": 15,
   "metadata": {},
   "outputs": [],
   "source": [
    "df_in.loc[:, 'entry_type'] = 'Arrival'\n",
    "df_out.loc[:, 'entry_type'] = 'Departure'"
   ]
  },
  {
   "cell_type": "code",
   "execution_count": 16,
   "metadata": {},
   "outputs": [],
   "source": [
    "df_in.loc[:, 'Description'] = \"\"\n",
    "df_out.loc[:, 'Description'] = \"\""
   ]
  },
  {
   "cell_type": "code",
   "execution_count": 17,
   "metadata": {},
   "outputs": [],
   "source": [
    "df_in.rename(columns={'time_in':'arrival_time'}, inplace=True)\n",
    "df_out.rename(columns={'time_out':'arrival_time'}, inplace=True)"
   ]
  },
  {
   "cell_type": "code",
   "execution_count": 21,
   "metadata": {},
   "outputs": [],
   "source": [
    "df_final = pd.concat([df_in, df_out], sort=False).reset_index(drop=True)"
   ]
  },
  {
   "cell_type": "markdown",
   "metadata": {},
   "source": [
    "### Final Program"
   ]
  },
  {
   "cell_type": "code",
   "execution_count": 8,
   "metadata": {},
   "outputs": [],
   "source": [
    "import pandas as pd"
   ]
  },
  {
   "cell_type": "code",
   "execution_count": 9,
   "metadata": {},
   "outputs": [],
   "source": [
    "def importData(sheet, file_name):\n",
    "    file_path = '../data/{}'.format(file_name)\n",
    "    \n",
    "    df = pd.read_excel(file_path, sheet_name=sheet, skiprows=2)\n",
    "    \n",
    "    return df"
   ]
  },
  {
   "cell_type": "code",
   "execution_count": 10,
   "metadata": {},
   "outputs": [],
   "source": [
    "def setDateTime(row, sheet):\n",
    "    sheet_num = int(sheet[5:])\n",
    "    dow, md  = row['Date'].split(\" \", 2)\n",
    "    month, day = md.split(\"/\", 2)\n",
    "    \n",
    "    if sheet_num < 20:\n",
    "        year = 2018\n",
    "    elif sheet_num == 20:\n",
    "        if int(month) == 1:\n",
    "            year = 2019\n",
    "        else:\n",
    "            year = 2018\n",
    "    elif sheet_num > 20:\n",
    "        year = 2019\n",
    "\n",
    "    dt_in = '{}-{}-{} {}'.format(year, month, day, row['Time In'])\n",
    "    dt_out = '{}-{}-{} {}'.format(year, month, day, row['Time Out'])\n",
    "    \n",
    "    ts_date = pd.Timestamp(dt_in).strftime('%Y-%m-%d')\n",
    "    ts_in = pd.Timestamp(dt_in).strftime('%Y-%m-%d %H:%M:%S')\n",
    "    ts_out = pd.Timestamp(dt_out).strftime('%Y-%m-%d %H:%M:%S')\n",
    "\n",
    "    return ts_date, ts_in, ts_out"
   ]
  },
  {
   "cell_type": "code",
   "execution_count": 89,
   "metadata": {},
   "outputs": [],
   "source": [
    "def wrangleData(df, sheet):\n",
    "    #Handle missing values.\n",
    "    df.dropna(axis=0, how='all', inplace=True)\n",
    "    \n",
    "    df = df.loc[df['Transaction'].isna() == False]\n",
    "    \n",
    "    df[['Date','Shift Total','Daily Total']] = df[['Date','Shift Total','Daily Total']].shift(+1)\n",
    "    \n",
    "    df = df.loc[(df['Date'].isna() == False) &\n",
    "                (df['Date'] != 'Date')]\n",
    "    \n",
    "    #Handle datetime.\n",
    "    df[['Date','time_in','time_out']] = df.apply(setDateTime, axis=1, result_type='expand', args=(sheet,))\n",
    "    \n",
    "    #Handle transactions.\n",
    "    df = df.loc[(df['Transaction'] == '01 - Regular Base Pay') |\n",
    "                (df['Transaction'] == '29 - Credit Hours Worked-Regular Time')]\n",
    "    \n",
    "    df['time_out_max'] = df.groupby(by=['Date'])['time_out'].transform(max)\n",
    "    \n",
    "    df = df.loc[(df['Transaction'] == '01 - Regular Base Pay')]\n",
    "    \n",
    "    #Finalize columns and format\n",
    "    \n",
    "    df_in = df[['time_in']].copy()\n",
    "    df_in.loc[:, 'entry_type'] = 'Arrival'\n",
    "    df_in.loc[:, 'description'] = \"\"\n",
    "    df_in.rename(columns={'time_in':'arrival_time'}, inplace=True)\n",
    "\n",
    "    df_out = df[['time_out_max']].copy()\n",
    "    df_out.loc[:, 'entry_type'] = 'Departure'\n",
    "    df_out.loc[:, 'description'] = \"\"\n",
    "    df_out.rename(columns={'time_out_max':'arrival_time'}, inplace=True)\n",
    "\n",
    "    df_final = pd.concat([df_in, df_out], sort=False)\n",
    "    df_final.reset_index(drop=True, inplace=True)\n",
    "    \n",
    "    return df_final"
   ]
  },
  {
   "cell_type": "code",
   "execution_count": 94,
   "metadata": {},
   "outputs": [],
   "source": [
    "def main():\n",
    "    df_all = pd.DataFrame(columns=['arrival_time','entry_type','description'])\n",
    "    sheets = []\n",
    "        \n",
    "    for i in range(1,33):\n",
    "        sheet = 'Sheet{}'.format(i)\n",
    "        sheets.append(sheet)\n",
    "        \n",
    "    for sheet in sheets:\n",
    "        print(sheet)\n",
    "        df = importData(sheet, \"20180401_20190622.xlsx\")\n",
    "        \n",
    "        df_wng = wrangleData(df, sheet)\n",
    "        \n",
    "        df_all = df_all.append(other=df_wng)\n",
    "        \n",
    "    return df_all"
   ]
  },
  {
   "cell_type": "code",
   "execution_count": 95,
   "metadata": {},
   "outputs": [
    {
     "name": "stdout",
     "output_type": "stream",
     "text": [
      "Sheet1\n"
     ]
    },
    {
     "name": "stderr",
     "output_type": "stream",
     "text": [
      "C:\\ProgramData\\Anaconda3\\lib\\site-packages\\pandas\\core\\frame.py:3140: SettingWithCopyWarning: \n",
      "A value is trying to be set on a copy of a slice from a DataFrame.\n",
      "Try using .loc[row_indexer,col_indexer] = value instead\n",
      "\n",
      "See the caveats in the documentation: http://pandas.pydata.org/pandas-docs/stable/indexing.html#indexing-view-versus-copy\n",
      "  self[k1] = value[k2]\n"
     ]
    },
    {
     "name": "stdout",
     "output_type": "stream",
     "text": [
      "Sheet2\n",
      "Sheet3\n",
      "Sheet4\n",
      "Sheet5\n",
      "Sheet6\n",
      "Sheet7\n",
      "Sheet8\n",
      "Sheet9\n",
      "Sheet10\n",
      "Sheet11\n",
      "Sheet12\n",
      "Sheet13\n",
      "Sheet14\n",
      "Sheet15\n",
      "Sheet16\n",
      "Sheet17\n",
      "Sheet18\n",
      "Sheet19\n",
      "Sheet20\n",
      "Sheet21\n",
      "Sheet22\n",
      "Sheet23\n",
      "Sheet24\n",
      "Sheet25\n",
      "Sheet26\n",
      "Sheet27\n",
      "Sheet28\n",
      "Sheet29\n",
      "Sheet30\n",
      "Sheet31\n",
      "Sheet32\n"
     ]
    }
   ],
   "source": [
    "web_df = main()"
   ]
  }
 ],
 "metadata": {
  "hide_input": false,
  "kernelspec": {
   "display_name": "Python 3",
   "language": "python",
   "name": "python3"
  },
  "language_info": {
   "codemirror_mode": {
    "name": "ipython",
    "version": 3
   },
   "file_extension": ".py",
   "mimetype": "text/x-python",
   "name": "python",
   "nbconvert_exporter": "python",
   "pygments_lexer": "ipython3",
   "version": "3.7.3"
  },
  "varInspector": {
   "cols": {
    "lenName": 16,
    "lenType": 16,
    "lenVar": 40
   },
   "kernels_config": {
    "python": {
     "delete_cmd_postfix": "",
     "delete_cmd_prefix": "del ",
     "library": "var_list.py",
     "varRefreshCmd": "print(var_dic_list())"
    },
    "r": {
     "delete_cmd_postfix": ") ",
     "delete_cmd_prefix": "rm(",
     "library": "var_list.r",
     "varRefreshCmd": "cat(var_dic_list()) "
    }
   },
   "types_to_exclude": [
    "module",
    "function",
    "builtin_function_or_method",
    "instance",
    "_Feature"
   ],
   "window_display": false
  }
 },
 "nbformat": 4,
 "nbformat_minor": 2
}
