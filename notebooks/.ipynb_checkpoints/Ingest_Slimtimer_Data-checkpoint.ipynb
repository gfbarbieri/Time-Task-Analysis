{
 "cells": [
  {
   "cell_type": "markdown",
   "metadata": {},
   "source": [
    "# Ingest Slimtimer Data\n",
    "\n",
    "Slimtimer is a no-frills task manager I use at work to save my time on tasks. This notebook was used to develop what became the source code for ingesting Slimtimer data from the Slimtimer API."
   ]
  },
  {
   "cell_type": "markdown",
   "metadata": {},
   "source": [
    "### Import Libraries"
   ]
  },
  {
   "cell_type": "code",
   "execution_count": null,
   "metadata": {},
   "outputs": [],
   "source": [
    "import calendar\n",
    "import datetime\n",
    "import json\n",
    "import os\n",
    "import requests"
   ]
  },
  {
   "cell_type": "markdown",
   "metadata": {},
   "source": [
    "### Assign Log-in Information\n",
    "\n",
    "I store the log-in information in a separate text file. This assumes you have already logged in at some point and captured the access token and user ID.\n",
    "\n",
    "Text file format:\n",
    "```python\n",
    "{\"api_key\": \"\",\n",
    "\"user_id\": \"\",\n",
    "\"access\": \"\"}\n",
    "```"
   ]
  },
  {
   "cell_type": "code",
   "execution_count": null,
   "metadata": {},
   "outputs": [],
   "source": [
    "file_path = \"C:/Users/Barbieri/Desktop/Research and Education/api_info.txt\"\n",
    "api_info = json.load(open(file_path, 'r'))"
   ]
  },
  {
   "cell_type": "markdown",
   "metadata": {},
   "source": [
    "### Design Start and End Dates\n",
    "\n",
    "This function should create every month/year to pull data for. One could theoretically pull data for any month/day/year, or all data at once."
   ]
  },
  {
   "cell_type": "code",
   "execution_count": null,
   "metadata": {},
   "outputs": [],
   "source": [
    "start_year = 2014\n",
    "end_year = 2019\n",
    "start_month = 7\n",
    "end_month = 7\n",
    "\n",
    "years = range(start_year, end_year + 1)\n",
    "months = range(1, 13)\n",
    "\n",
    "dates = []\n",
    "\n",
    "for year in years:\n",
    "    min_years = min(years)\n",
    "    max_years = max(years)\n",
    "    \n",
    "    for month in months:\n",
    "        if year == min_years:\n",
    "            if month >= start_month:\n",
    "                dates.append([month, year])\n",
    "        elif year < max_years:\n",
    "            dates.append([month,year])\n",
    "        elif year == max_years:\n",
    "            if month <= end_month:\n",
    "                dates.append([month,year])"
   ]
  },
  {
   "cell_type": "markdown",
   "metadata": {},
   "source": [
    "### Build Query\n",
    "\n",
    "This function builds the query for each month and year."
   ]
  },
  {
   "cell_type": "markdown",
   "metadata": {},
   "source": [
    "Headers and base url."
   ]
  },
  {
   "cell_type": "code",
   "execution_count": null,
   "metadata": {},
   "outputs": [],
   "source": [
    "headers = {'Accept': 'application/{}'.format('xml'),\n",
    "           'Content-Type': 'application/{}'.format('xml')}\n",
    "\n",
    "call_url = 'http://slimtimer.com/users/{}/time_entries'.format(api_info['user_id'])"
   ]
  },
  {
   "cell_type": "markdown",
   "metadata": {},
   "source": [
    "In practice, this would be performed for each month/year combination. The first day of the month, or `month_start` is always 1, but the last day of the month, or `month end` is between 28 and 31, depending on the month--the `calendar` library helps with this."
   ]
  },
  {
   "cell_type": "code",
   "execution_count": null,
   "metadata": {},
   "outputs": [],
   "source": [
    "year = dates[0][1]\n",
    "month = dates[0][0]\n",
    "\n",
    "month_range = calendar.monthrange(year,month)\n",
    "month_start = str(1).zfill(2)\n",
    "month_end = str(month_range[1])\n",
    "\n",
    "params = {'api_key': api_info['api_key'],\n",
    "          'access_token': api_info['access'],\n",
    "          'offset': '0',\n",
    "          'range_start': '{}-{}-{} 00:00:00'.format(year, month, month_start),\n",
    "          'range_end': '{}-{}-{} 23:59:59'.format(year, month, month_end)}"
   ]
  },
  {
   "cell_type": "markdown",
   "metadata": {},
   "source": [
    "### Request Data\n",
    "\n",
    "Make the request."
   ]
  },
  {
   "cell_type": "code",
   "execution_count": null,
   "metadata": {},
   "outputs": [],
   "source": [
    "request = requests.get(call_url, params=params, headers=headers)\n",
    "request.text"
   ]
  },
  {
   "cell_type": "markdown",
   "metadata": {},
   "source": [
    "### Output Data\n",
    "\n",
    "Output the XML data."
   ]
  },
  {
   "cell_type": "code",
   "execution_count": null,
   "metadata": {},
   "outputs": [],
   "source": [
    "data_folder = os.path.join(os.getcwd(),'../data/task-data')\n",
    "file_name = '{}_{}_{}-{}_{}_{}.xml'.format(year, month, month_start, year, month, month_end)\n",
    "file_path = os.path.join(data_folder,file_name)\n",
    "\n",
    "with open(file_path, 'w') as w:\n",
    "    w.write(request.text)"
   ]
  }
 ],
 "metadata": {
  "hide_input": false,
  "kernelspec": {
   "display_name": "Python 3",
   "language": "python",
   "name": "python3"
  },
  "language_info": {
   "codemirror_mode": {
    "name": "ipython",
    "version": 3
   },
   "file_extension": ".py",
   "mimetype": "text/x-python",
   "name": "python",
   "nbconvert_exporter": "python",
   "pygments_lexer": "ipython3",
   "version": "3.7.3"
  },
  "varInspector": {
   "cols": {
    "lenName": 16,
    "lenType": 16,
    "lenVar": 40
   },
   "kernels_config": {
    "python": {
     "delete_cmd_postfix": "",
     "delete_cmd_prefix": "del ",
     "library": "var_list.py",
     "varRefreshCmd": "print(var_dic_list())"
    },
    "r": {
     "delete_cmd_postfix": ") ",
     "delete_cmd_prefix": "rm(",
     "library": "var_list.r",
     "varRefreshCmd": "cat(var_dic_list()) "
    }
   },
   "types_to_exclude": [
    "module",
    "function",
    "builtin_function_or_method",
    "instance",
    "_Feature"
   ],
   "window_display": false
  }
 },
 "nbformat": 4,
 "nbformat_minor": 2
}
