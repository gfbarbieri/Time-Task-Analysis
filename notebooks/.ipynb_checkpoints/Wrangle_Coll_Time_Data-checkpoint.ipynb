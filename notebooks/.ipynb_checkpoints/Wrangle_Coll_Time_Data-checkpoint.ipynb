{
 "cells": [
  {
   "cell_type": "code",
   "execution_count": 50,
   "metadata": {},
   "outputs": [],
   "source": [
    "import pandas as pd\n",
    "import sqlite3"
   ]
  },
  {
   "cell_type": "code",
   "execution_count": 58,
   "metadata": {},
   "outputs": [],
   "source": [
    "def setDatetime(row, time_var):\n",
    "    date = row['date'].strftime('%Y-%m-%d')\n",
    "    time = row[time_var].strftime('%H:%M:%S')\n",
    "\n",
    "    ts = '{} {}'.format(date, time)\n",
    "\n",
    "    return ts"
   ]
  },
  {
   "cell_type": "code",
   "execution_count": 52,
   "metadata": {},
   "outputs": [],
   "source": [
    "def importData(file_name):\n",
    "    #Set file path.\n",
    "    file_path = '../data/{}'.format(file_name)\n",
    "\n",
    "    #Import data.\n",
    "    xlsx = pd.ExcelFile(file_path)\n",
    "    sheets = xlsx.sheet_names\n",
    "\n",
    "    df_ing = pd.read_excel(xlsx, sheet_name=sheets[0])\n",
    "\n",
    "    return df_ing"
   ]
  },
  {
   "cell_type": "code",
   "execution_count": 53,
   "metadata": {},
   "outputs": [],
   "source": [
    "#Import\n",
    "df_ing_hist = importData(file_name='20140714_20180331.xlsx')\n",
    "df_ing_curr = importData(file_name='20190623_20190629.xlsx')"
   ]
  },
  {
   "cell_type": "code",
   "execution_count": 61,
   "metadata": {},
   "outputs": [],
   "source": [
    "def wrangleData(df, type=None):\n",
    "\n",
    "    #Handle missing values.\n",
    "    df = df.loc[df['time-in'].isna() == False]\n",
    "\n",
    "    #Set datetime variable.\n",
    "    df['arrival_time'] = df[['date','time-in']].apply(setDatetime, axis=1, args=('time-in',))\n",
    "\n",
    "    #Set datetime variable for output time, if available.\n",
    "    #otherwise, entry_type and description columns.\n",
    "    if type == 'curr':\n",
    "        df['departure_time'] = df[['date','time-out']].apply(setDatetime, axis=1, args=('time-out',))\n",
    "\n",
    "        df_in = df[['arrival_time']].copy()\n",
    "        df_in.loc[:, 'entry_type'] = 'Arrival'\n",
    "        df_in.loc[:, 'description'] = \"\"\n",
    "        df_in.rename(columns={'arrival_time':'datetimes'}, inplace=True)\n",
    "\n",
    "        df_out = df[['departure_time']].copy()\n",
    "        df_out.loc[:, 'entry_type'] = 'Departure'\n",
    "        df_out.loc[:, 'description'] = \"\"\n",
    "        df_out.rename(columns={'departure_time':'datetimes'}, inplace=True)\n",
    "\n",
    "        df = pd.concat([df_in, df_out], sort=False)\n",
    "        df.reset_index(drop=True, inplace=True)\n",
    "    else:\n",
    "        df.loc[:, 'entry_type'] = 'Arrival'\n",
    "        df.loc[:, 'description'] = \"\"\n",
    "        df.rename(columns={'arrival_time':'datetimes'}, inplace=True)\n",
    "        df.drop(columns=['date','time-in'], inplace=True)\n",
    "\n",
    "    return df"
   ]
  },
  {
   "cell_type": "code",
   "execution_count": 62,
   "metadata": {},
   "outputs": [
    {
     "name": "stderr",
     "output_type": "stream",
     "text": [
      "C:\\ProgramData\\Anaconda3\\lib\\site-packages\\ipykernel_launcher.py:7: SettingWithCopyWarning: \n",
      "A value is trying to be set on a copy of a slice from a DataFrame.\n",
      "Try using .loc[row_indexer,col_indexer] = value instead\n",
      "\n",
      "See the caveats in the documentation: http://pandas.pydata.org/pandas-docs/stable/indexing.html#indexing-view-versus-copy\n",
      "  import sys\n",
      "C:\\ProgramData\\Anaconda3\\lib\\site-packages\\ipykernel_launcher.py:12: SettingWithCopyWarning: \n",
      "A value is trying to be set on a copy of a slice from a DataFrame.\n",
      "Try using .loc[row_indexer,col_indexer] = value instead\n",
      "\n",
      "See the caveats in the documentation: http://pandas.pydata.org/pandas-docs/stable/indexing.html#indexing-view-versus-copy\n",
      "  if sys.path[0] == '':\n"
     ]
    }
   ],
   "source": [
    "#Wrangle.\n",
    "df_wng_hist = wrangleData(df_ing_hist)\n",
    "df_wng_curr = wrangleData(df_ing_curr, type='curr')"
   ]
  },
  {
   "cell_type": "code",
   "execution_count": null,
   "metadata": {},
   "outputs": [],
   "source": [
    "def createDB(data, table_name):\n",
    "    #Open connection and create cursor.\n",
    "    conn = sqlite3.connect('../data/arrival_departure_hist.db')\n",
    "    c = conn.cursor()\n",
    "\n",
    "    #If table already exists, drop it before writing to it.\n",
    "    c.execute(\"drop table if exists {}\".format(table_name))\n",
    "\n",
    "    #Write to the table.\n",
    "    data.to_sql(table_name, conn)\n",
    "\n",
    "    #Commit and close connection.\n",
    "    conn.commit()\n",
    "    conn.close()"
   ]
  },
  {
   "cell_type": "code",
   "execution_count": null,
   "metadata": {},
   "outputs": [],
   "source": [
    "#Output.\n",
    "createDB(data=df_wng_hist, table_name='arrive_depart_webta')\n",
    "createDB(data=df_wng_curr, table_name='arrive_depart_timea')"
   ]
  }
 ],
 "metadata": {
  "hide_input": false,
  "kernelspec": {
   "display_name": "Python 3",
   "language": "python",
   "name": "python3"
  },
  "language_info": {
   "codemirror_mode": {
    "name": "ipython",
    "version": 3
   },
   "file_extension": ".py",
   "mimetype": "text/x-python",
   "name": "python",
   "nbconvert_exporter": "python",
   "pygments_lexer": "ipython3",
   "version": "3.7.3"
  },
  "varInspector": {
   "cols": {
    "lenName": 16,
    "lenType": 16,
    "lenVar": 40
   },
   "kernels_config": {
    "python": {
     "delete_cmd_postfix": "",
     "delete_cmd_prefix": "del ",
     "library": "var_list.py",
     "varRefreshCmd": "print(var_dic_list())"
    },
    "r": {
     "delete_cmd_postfix": ") ",
     "delete_cmd_prefix": "rm(",
     "library": "var_list.r",
     "varRefreshCmd": "cat(var_dic_list()) "
    }
   },
   "types_to_exclude": [
    "module",
    "function",
    "builtin_function_or_method",
    "instance",
    "_Feature"
   ],
   "window_display": false
  }
 },
 "nbformat": 4,
 "nbformat_minor": 2
}
