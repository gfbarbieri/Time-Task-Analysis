{
 "cells": [
  {
   "cell_type": "markdown",
   "metadata": {},
   "source": [
    "# Wrangle WebTA Data\n",
    "\n",
    "WebTA is a time assistant that DOL uses to clock in and out.\n",
    "\n",
    "**Ingestion**: The data was ingested manually by copying and pasting the website tables for each pay-period into a spreadsheet in various workbooks. The workbooks are named based on the dates of pay-periods they contain."
   ]
  },
  {
   "cell_type": "markdown",
   "metadata": {},
   "source": [
    "### Import Libraries"
   ]
  },
  {
   "cell_type": "code",
   "execution_count": 1,
   "metadata": {},
   "outputs": [],
   "source": [
    "import datetime\n",
    "import os\n",
    "import pandas as pd"
   ]
  },
  {
   "cell_type": "markdown",
   "metadata": {},
   "source": [
    "### Determine Files and Number of Sheets"
   ]
  },
  {
   "cell_type": "markdown",
   "metadata": {},
   "source": [
    "Final all xlsx files and sheets within files in directory."
   ]
  },
  {
   "cell_type": "code",
   "execution_count": 21,
   "metadata": {},
   "outputs": [
    {
     "name": "stdout",
     "output_type": "stream",
     "text": [
      "webta_20140713_20160625.xlsx\n",
      "Sheet1\n",
      "Sheet2\n",
      "Sheet3\n",
      "Sheet4\n",
      "Sheet5\n",
      "Sheet6\n",
      "Sheet7\n",
      "Sheet8\n",
      "Sheet9\n",
      "Sheet10\n",
      "Sheet11\n",
      "Sheet12\n",
      "Sheet13\n",
      "Sheet14\n",
      "Sheet15\n",
      "Sheet16\n",
      "Sheet17\n",
      "Sheet18\n",
      "Sheet19\n",
      "Sheet20\n",
      "Sheet21\n",
      "Sheet22\n",
      "Sheet23\n",
      "Sheet24\n",
      "Sheet25\n",
      "Sheet26\n",
      "Sheet27\n",
      "Sheet28\n",
      "Sheet29\n",
      "Sheet31\n",
      "Sheet32\n",
      "Sheet33\n",
      "Sheet34\n",
      "Sheet35\n",
      "Sheet36\n",
      "Sheet37\n",
      "Sheet38\n",
      "Sheet39\n",
      "Sheet40\n",
      "Sheet41\n",
      "Sheet42\n",
      "Sheet43\n",
      "Sheet44\n",
      "Sheet45\n",
      "Sheet46\n",
      "Sheet47\n",
      "Sheet48\n",
      "Sheet49\n",
      "Sheet50\n",
      "Sheet51\n",
      "Sheet52\n",
      "webta_20160626_20171028.xlsx\n",
      "Sheet1\n",
      "Sheet2\n",
      "Sheet3\n",
      "Sheet4\n",
      "Sheet5\n",
      "Sheet6\n",
      "Sheet7\n",
      "Sheet8\n",
      "Sheet9\n",
      "Sheet10\n",
      "Sheet11\n",
      "Sheet12\n",
      "Sheet13\n",
      "Sheet14\n",
      "Sheet15\n",
      "Sheet16\n",
      "Sheet17\n",
      "Sheet18\n",
      "Sheet19\n",
      "Sheet20\n",
      "Sheet21\n",
      "Sheet22\n",
      "Sheet23\n",
      "Sheet24\n",
      "Sheet25\n",
      "Sheet26\n",
      "Sheet27\n",
      "Sheet28\n",
      "Sheet29\n",
      "Sheet30\n",
      "Sheet31\n",
      "Sheet32\n",
      "Sheet33\n",
      "Sheet34\n",
      "Sheet35\n",
      "webta_20171029_20180331.xlsx\n",
      "Sheet1\n",
      "Sheet2\n",
      "Sheet3\n",
      "Sheet4\n",
      "Sheet5\n",
      "Sheet6\n",
      "Sheet7\n",
      "Sheet8\n",
      "Sheet9\n",
      "Sheet10\n",
      "Sheet11\n",
      "webta_20180401_20190622.xlsx\n",
      "Sheet1\n",
      "Sheet2\n",
      "Sheet3\n",
      "Sheet4\n",
      "Sheet5\n",
      "Sheet6\n",
      "Sheet7\n",
      "Sheet8\n",
      "Sheet9\n",
      "Sheet10\n",
      "Sheet11\n",
      "Sheet12\n",
      "Sheet13\n",
      "Sheet14\n",
      "Sheet15\n",
      "Sheet16\n",
      "Sheet17\n",
      "Sheet18\n",
      "Sheet19\n",
      "Sheet20\n",
      "Sheet21\n",
      "Sheet22\n",
      "Sheet23\n",
      "Sheet24\n",
      "Sheet25\n",
      "Sheet26\n",
      "Sheet27\n",
      "Sheet28\n",
      "Sheet29\n",
      "Sheet30\n",
      "Sheet31\n",
      "Sheet32\n"
     ]
    }
   ],
   "source": [
    "mypath = \"../data/time-data\"\n",
    "\n",
    "\n",
    "for file in os.listdir(mypath):\n",
    "    print(file)\n",
    "    file_path = os.path.join(mypath,file)\n",
    "    \n",
    "    xlsx = pd.ExcelFile(file_path)\n",
    "    sheets = xlsx.sheet_names\n",
    "    \n",
    "    for sheet in sheets:\n",
    "        print(sheet)"
   ]
  },
  {
   "cell_type": "markdown",
   "metadata": {},
   "source": [
    "### Data Wrangling"
   ]
  },
  {
   "cell_type": "code",
   "execution_count": 4,
   "metadata": {},
   "outputs": [],
   "source": [
    "def createDateRange(file_path, sheet):\n",
    "    start_date = pd.Timestamp(file_path.split(\"_\")[1])\n",
    "    bi_weekly_elapse = int(sheet[5:])\n",
    "\n",
    "    start_day_elapse = (bi_weekly_elapse-1)*14\n",
    "    end_day_elapse = (bi_weekly_elapse)*14\n",
    "\n",
    "    date_range_start = start_date + datetime.timedelta(days=start_day_elapse)\n",
    "    date_range_end = start_date + datetime.timedelta(days=end_day_elapse)\n",
    "\n",
    "    time_range = []\n",
    "\n",
    "    for i in range(start_day_elapse,end_day_elapse):\n",
    "        date = start_date + datetime.timedelta(days=i)\n",
    "        date_month = str(date.month).zfill(2)\n",
    "        date_day = str(date.day).zfill(2)\n",
    "        date_year = str(date.year)\n",
    "\n",
    "        time_range.append([date_month, date_day, date_year])\n",
    "\n",
    "    time_range_df = pd.DataFrame(time_range, columns=['month','day','year'])\n",
    "    \n",
    "    return time_range_df"
   ]
  },
  {
   "cell_type": "code",
   "execution_count": 5,
   "metadata": {},
   "outputs": [],
   "source": [
    "def setDateTimeInOut(row):\n",
    "    d_str = '{} {} {}'.format(row['month'], row['day'], row['year'])\n",
    "    \n",
    "    d_ts = pd.Timestamp(d_str).strftime('%Y-%m-%d')\n",
    "    tin_ts = pd.Timestamp(row['Time In']).strftime('%H:%M:%S')\n",
    "    tout_ts = pd.Timestamp(row['Time Out']).strftime('%H:%M:%S')\n",
    "    \n",
    "    return d_ts, tin_ts, tout_ts   "
   ]
  },
  {
   "cell_type": "markdown",
   "metadata": {},
   "source": [
    "Import Data"
   ]
  },
  {
   "cell_type": "code",
   "execution_count": 35,
   "metadata": {},
   "outputs": [],
   "source": [
    "file_path = '../data/time-data/webta_20160626_20171028.xlsx'\n",
    "xlsx = pd.ExcelFile(file_path)\n",
    "sheets = xlsx.sheet_names"
   ]
  },
  {
   "cell_type": "code",
   "execution_count": 36,
   "metadata": {},
   "outputs": [
    {
     "name": "stdout",
     "output_type": "stream",
     "text": [
      "Sheet2\n"
     ]
    }
   ],
   "source": [
    "sheet = sheets[1]\n",
    "print(sheet)\n",
    "df = pd.read_excel(xlsx, sheet_name=sheet, skiprows=1)"
   ]
  },
  {
   "cell_type": "markdown",
   "metadata": {},
   "source": [
    "Handle Missing Data"
   ]
  },
  {
   "cell_type": "code",
   "execution_count": 28,
   "metadata": {},
   "outputs": [],
   "source": [
    "df_na = df.dropna(axis=0, how='all')\n",
    "\n",
    "df_na = df_na.loc[df_na['Transaction'].isna() == False]\n",
    "\n",
    "df_na[['Date','Shift Total','Daily Total']] = df_na[['Date','Shift Total','Daily Total']].shift(+1)\n",
    "\n",
    "df_na = df_na.loc[(df_na['Date'].isna() == False) &\n",
    "                  (df_na['Date'] != 'Date')]"
   ]
  },
  {
   "cell_type": "markdown",
   "metadata": {},
   "source": [
    "Handle Date and Time"
   ]
  },
  {
   "cell_type": "markdown",
   "metadata": {},
   "source": [
    "Create month/day variables"
   ]
  },
  {
   "cell_type": "code",
   "execution_count": 30,
   "metadata": {},
   "outputs": [],
   "source": [
    "df_dt = df_na.copy()"
   ]
  },
  {
   "cell_type": "code",
   "execution_count": 31,
   "metadata": {},
   "outputs": [],
   "source": [
    "df_dt['md']  = df_dt['Date'].str.split(pat=\" \", n=2, expand=True)[1]\n",
    "df_dt[['month', 'day']] = df_dt['md'].str.split(\"/\", 2, expand=True)\n",
    "df_dt['month'] = df_dt['month'].str.zfill(2)\n",
    "df_dt['day'] = df_dt['day'].str.zfill(2)"
   ]
  },
  {
   "cell_type": "markdown",
   "metadata": {},
   "source": [
    "Create year variable by designing date ranges covered by sheet by calculating the bi-weekly period and elapsed time from start date."
   ]
  },
  {
   "cell_type": "code",
   "execution_count": 33,
   "metadata": {},
   "outputs": [],
   "source": [
    "time_range_df = createDateRange(file_path=file_path, sheet=sheet)"
   ]
  },
  {
   "cell_type": "markdown",
   "metadata": {},
   "source": [
    "Merge date ranges and timesheet by month/day to get year."
   ]
  },
  {
   "cell_type": "code",
   "execution_count": 13,
   "metadata": {},
   "outputs": [],
   "source": [
    "df_dt = df_dt.merge(right=time_range_df, on=['month','day'])"
   ]
  },
  {
   "cell_type": "markdown",
   "metadata": {},
   "source": [
    "Create date, time-in, and time-out variables."
   ]
  },
  {
   "cell_type": "code",
   "execution_count": 14,
   "metadata": {},
   "outputs": [],
   "source": [
    "df_dt[['date','time-in','time-out']] = df_dt[['month','day','year','Time In','Time Out']].apply(setDateTimeInOut, axis=1, result_type='expand')"
   ]
  },
  {
   "cell_type": "markdown",
   "metadata": {},
   "source": [
    "Finalize Columns"
   ]
  },
  {
   "cell_type": "code",
   "execution_count": 16,
   "metadata": {},
   "outputs": [],
   "source": [
    "rename = {'Shift Total':'shift_total','Meal':'lunch','Daily Total':'daily_total', 'Transaction':'transaction'}"
   ]
  },
  {
   "cell_type": "code",
   "execution_count": 17,
   "metadata": {},
   "outputs": [],
   "source": [
    "df_dt.rename(columns=rename, inplace=True)\n",
    "df_dt.reset_index(drop=True, inplace=True)"
   ]
  },
  {
   "cell_type": "code",
   "execution_count": 18,
   "metadata": {},
   "outputs": [],
   "source": [
    "df_final = df_dt[['date','time-in','time-out','shift_total','lunch','daily_total','transaction']]"
   ]
  }
 ],
 "metadata": {
  "hide_input": false,
  "kernelspec": {
   "display_name": "Python 3",
   "language": "python",
   "name": "python3"
  },
  "language_info": {
   "codemirror_mode": {
    "name": "ipython",
    "version": 3
   },
   "file_extension": ".py",
   "mimetype": "text/x-python",
   "name": "python",
   "nbconvert_exporter": "python",
   "pygments_lexer": "ipython3",
   "version": "3.7.3"
  },
  "varInspector": {
   "cols": {
    "lenName": 16,
    "lenType": 16,
    "lenVar": 40
   },
   "kernels_config": {
    "python": {
     "delete_cmd_postfix": "",
     "delete_cmd_prefix": "del ",
     "library": "var_list.py",
     "varRefreshCmd": "print(var_dic_list())"
    },
    "r": {
     "delete_cmd_postfix": ") ",
     "delete_cmd_prefix": "rm(",
     "library": "var_list.r",
     "varRefreshCmd": "cat(var_dic_list()) "
    }
   },
   "types_to_exclude": [
    "module",
    "function",
    "builtin_function_or_method",
    "instance",
    "_Feature"
   ],
   "window_display": false
  }
 },
 "nbformat": 4,
 "nbformat_minor": 2
}
