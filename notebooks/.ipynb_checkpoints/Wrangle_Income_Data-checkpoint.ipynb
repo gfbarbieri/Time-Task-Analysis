{
 "cells": [
  {
   "cell_type": "code",
   "execution_count": 1,
   "metadata": {},
   "outputs": [],
   "source": [
    "import pandas as pd\n",
    "import os"
   ]
  },
  {
   "cell_type": "markdown",
   "metadata": {},
   "source": [
    "### Import CSV"
   ]
  },
  {
   "cell_type": "markdown",
   "metadata": {},
   "source": [
    "Import full file."
   ]
  },
  {
   "cell_type": "code",
   "execution_count": 2,
   "metadata": {},
   "outputs": [],
   "source": [
    "file_path = '../data/income-data/el20140713.csv'"
   ]
  },
  {
   "cell_type": "code",
   "execution_count": 3,
   "metadata": {},
   "outputs": [],
   "source": [
    "full_df = pd.read_csv(file_path, encoding='Latin-1')"
   ]
  },
  {
   "cell_type": "markdown",
   "metadata": {},
   "source": [
    "### Wrangle\n",
    "\n",
    "To wrangle, we need indexes.\n",
    "\n",
    "- **Pay Period Info**: 'Year, Pay Period'\n",
    "- **Earnings**: 'Earnings and Deductions'\n",
    "- **Leave**: 'Year-to-Date Leave Status\t'\n",
    "- **Agency Contributions**: 'Agency Contributions to Employee Benefits this Pay Period'"
   ]
  },
  {
   "cell_type": "markdown",
   "metadata": {},
   "source": [
    "Separate out each piece."
   ]
  },
  {
   "cell_type": "code",
   "execution_count": 4,
   "metadata": {},
   "outputs": [],
   "source": [
    "names = ['Year, Pay Period', 'Earnings and Deductions', 'Year-to-Date Leave Status',\n",
    "         'Agency Contributions to Employee Benefits this Pay Period']\n",
    "\n",
    "indexes = full_df.index[full_df['Gregory Barbieri'].isin(names)].tolist()"
   ]
  },
  {
   "cell_type": "code",
   "execution_count": 5,
   "metadata": {},
   "outputs": [],
   "source": [
    "for item, index in enumerate(indexes):\n",
    "    start = index\n",
    "    \n",
    "    if item < len(indexes)-1:\n",
    "        end=indexes[item+1]\n",
    "\n",
    "    if item == 0:\n",
    "        pay_period_info = full_df.iloc[start:end].reset_index(drop=True)\n",
    "    elif item == 1:\n",
    "        earnings = full_df.iloc[start:end].reset_index(drop=True)\n",
    "    elif item == 2:\n",
    "        leave = full_df.iloc[start:end].reset_index(drop=True)\n",
    "    elif item == 3:\n",
    "        agency_contributions = full_df.iloc[start:].reset_index(drop=True)"
   ]
  },
  {
   "cell_type": "markdown",
   "metadata": {},
   "source": [
    "Wrangle Pay-period Info."
   ]
  },
  {
   "cell_type": "code",
   "execution_count": 6,
   "metadata": {},
   "outputs": [],
   "source": [
    "columns = pay_period_info.columns.tolist()\n",
    "\n",
    "rename_cols = ['pay_period','agency','pay_plan','salary',\n",
    "               'scd','na_col_1','na_col_2','na_col_3']\n",
    "\n",
    "rename_dict = {}\n",
    "\n",
    "for index, column in enumerate(columns):\n",
    "    rename_dict[column] = rename_cols[index]\n",
    "    \n",
    "pay_period_info.rename(columns=rename_dict, inplace=True)    "
   ]
  },
  {
   "cell_type": "code",
   "execution_count": 7,
   "metadata": {},
   "outputs": [],
   "source": [
    "pay_period_info = pay_period_info.loc[pay_period_info['pay_period'].isnull() == False]\n",
    "pay_period_info['pay_period_range'] = pay_period_info['pay_period'].shift(-1)\n",
    "pay_period_info = pay_period_info.loc[(pay_period_info['agency'].isnull() == False) &\n",
    "                                      (pay_period_info['salary'] != 'Salary')]\n",
    "pay_period_info['pay_period'] = pay_period_info['pay_period'].str.replace(u'\\xa0', u' ').str.replace(' ','')\n",
    "pay_period_info = pay_period_info.drop(columns=['na_col_1','na_col_2','na_col_3']).reset_index(drop=True)"
   ]
  },
  {
   "cell_type": "markdown",
   "metadata": {},
   "source": [
    "Wrangle earnings data."
   ]
  },
  {
   "cell_type": "code",
   "execution_count": 8,
   "metadata": {},
   "outputs": [],
   "source": [
    "columns = earnings.columns.tolist()\n",
    "\n",
    "rename_cols = ['code','description','hours_pp','hours_ytd',\n",
    "               'amount_pp','amount_ytd','na_col_1','na_col_2']\n",
    "\n",
    "rename_dict = {}\n",
    "\n",
    "for index, column in enumerate(columns):\n",
    "    rename_dict[column] = rename_cols[index]\n",
    "\n",
    "earnings.rename(columns=rename_dict, inplace=True)"
   ]
  },
  {
   "cell_type": "code",
   "execution_count": 9,
   "metadata": {},
   "outputs": [],
   "source": [
    "earnings = earnings.loc[(earnings['code'] != '**') &\n",
    "                        (earnings['code'].isnull() == False) &\n",
    "                        (earnings['code'] != 'Code') &\n",
    "                        (earnings['description'].isnull() == False)]\n",
    "\n",
    "earnings['pay_period'] = pay_period_info['pay_period'][0]\n",
    "\n",
    "earnings = earnings.drop(columns=['na_col_1','na_col_2']).reset_index(drop=True)"
   ]
  },
  {
   "cell_type": "markdown",
   "metadata": {},
   "source": [
    "Wrangle Leave Usage and Accrual"
   ]
  },
  {
   "cell_type": "code",
   "execution_count": 11,
   "metadata": {},
   "outputs": [],
   "source": [
    "columns = leave.columns.tolist()\n",
    "\n",
    "rename_cols = ['type','na_col_1','accured','used',\n",
    "               'balance','projected_uol','na_col_2','na_col_3']\n",
    "\n",
    "rename_dict = {}\n",
    "\n",
    "for index, column in enumerate(columns):\n",
    "    rename_dict[column] = rename_cols[index]\n",
    "\n",
    "leave.rename(columns=rename_dict, inplace=True)"
   ]
  },
  {
   "cell_type": "code",
   "execution_count": 12,
   "metadata": {},
   "outputs": [],
   "source": [
    "leave = leave.loc[(leave['type'].isnull() == False) &\n",
    "                  (leave['type'] != 'Type') &\n",
    "                  (leave['accured'].isnull() == False)]\n",
    "\n",
    "leave['pay_period'] = pay_period_info['pay_period'][0]\n",
    "\n",
    "leave = leave.drop(columns=['na_col_1','na_col_2','na_col_3']).reset_index(drop=True)"
   ]
  },
  {
   "cell_type": "markdown",
   "metadata": {},
   "source": [
    "Wrangle Agency Contributions"
   ]
  },
  {
   "cell_type": "code",
   "execution_count": 14,
   "metadata": {},
   "outputs": [],
   "source": [
    "columns = agency_contributions.columns.tolist()\n",
    "\n",
    "rename_cols = ['contribution','amount','na_col_1','na_col_2','na_col_3','na_col_4','na_col_5','na_col_6']\n",
    "\n",
    "rename_dict = {}\n",
    "\n",
    "for index, column in enumerate(columns):\n",
    "    rename_dict[column] = rename_cols[index]\n",
    "\n",
    "agency_contributions.rename(columns=rename_dict, inplace=True)"
   ]
  },
  {
   "cell_type": "code",
   "execution_count": 15,
   "metadata": {},
   "outputs": [],
   "source": [
    "agency_contributions = agency_contributions.loc[agency_contributions['amount'].isnull() == False]\n",
    "\n",
    "agency_contributions['contribution'] = agency_contributions['contribution'].str.replace(\"*\",\"\")\n",
    "\n",
    "agency_contributions['pay_period'] = pay_period_info['pay_period'][0]\n",
    "\n",
    "agency_contributions = agency_contributions.drop(columns=['na_col_1','na_col_2','na_col_3','na_col_4',\n",
    "                                                          'na_col_5','na_col_6']).reset_index(drop=True)"
   ]
  }
 ],
 "metadata": {
  "hide_input": false,
  "kernelspec": {
   "display_name": "Python 3",
   "language": "python",
   "name": "python3"
  },
  "language_info": {
   "codemirror_mode": {
    "name": "ipython",
    "version": 3
   },
   "file_extension": ".py",
   "mimetype": "text/x-python",
   "name": "python",
   "nbconvert_exporter": "python",
   "pygments_lexer": "ipython3",
   "version": "3.7.3"
  },
  "varInspector": {
   "cols": {
    "lenName": 16,
    "lenType": 16,
    "lenVar": 40
   },
   "kernels_config": {
    "python": {
     "delete_cmd_postfix": "",
     "delete_cmd_prefix": "del ",
     "library": "var_list.py",
     "varRefreshCmd": "print(var_dic_list())"
    },
    "r": {
     "delete_cmd_postfix": ") ",
     "delete_cmd_prefix": "rm(",
     "library": "var_list.r",
     "varRefreshCmd": "cat(var_dic_list()) "
    }
   },
   "types_to_exclude": [
    "module",
    "function",
    "builtin_function_or_method",
    "instance",
    "_Feature"
   ],
   "window_display": false
  }
 },
 "nbformat": 4,
 "nbformat_minor": 2
}
