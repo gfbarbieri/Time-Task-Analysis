{
 "cells": [
  {
   "cell_type": "code",
   "execution_count": 1,
   "metadata": {},
   "outputs": [],
   "source": [
    "import xml.etree.ElementTree as et"
   ]
  },
  {
   "cell_type": "code",
   "execution_count": null,
   "metadata": {},
   "outputs": [],
   "source": [
    "xml = et.fromstring(k.text)\n",
    "xml"
   ]
  },
  {
   "cell_type": "code",
   "execution_count": null,
   "metadata": {},
   "outputs": [],
   "source": [
    "for table in xml.iter('time-entry'):\n",
    "    for child in table:\n",
    "        print(child.tag, child.text)\n",
    "        if child.tag == \"task\":\n",
    "            for grandchild in child:\n",
    "                print(grandchild.tag, grandchild.text)"
   ]
  },
  {
   "cell_type": "code",
   "execution_count": null,
   "metadata": {},
   "outputs": [],
   "source": [
    "dct = {}\n",
    "\n",
    "for table in xml.iter('time-entry'):\n",
    "    for child in table:\n",
    "        if child.tag == 'task':\n",
    "            for gchild in child:\n",
    "                if gchild.tag == 'name':\n",
    "                    dct[gchild.tag] = gchild.text\n",
    "        else:\n",
    "            dct[child.tag] = child.text"
   ]
  }
 ],
 "metadata": {
  "hide_input": false,
  "kernelspec": {
   "display_name": "Python 3",
   "language": "python",
   "name": "python3"
  },
  "language_info": {
   "codemirror_mode": {
    "name": "ipython",
    "version": 3
   },
   "file_extension": ".py",
   "mimetype": "text/x-python",
   "name": "python",
   "nbconvert_exporter": "python",
   "pygments_lexer": "ipython3",
   "version": "3.7.0"
  }
 },
 "nbformat": 4,
 "nbformat_minor": 2
}
