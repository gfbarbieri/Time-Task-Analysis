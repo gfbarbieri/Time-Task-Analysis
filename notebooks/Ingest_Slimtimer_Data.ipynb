{
 "cells": [
  {
   "cell_type": "markdown",
   "metadata": {},
   "source": [
    "### Import Libraries"
   ]
  },
  {
   "cell_type": "code",
   "execution_count": null,
   "metadata": {},
   "outputs": [],
   "source": [
    "import calendar\n",
    "import os\n",
    "import requests"
   ]
  },
  {
   "cell_type": "markdown",
   "metadata": {},
   "source": [
    "### Assign Log-in Information"
   ]
  },
  {
   "cell_type": "code",
   "execution_count": null,
   "metadata": {},
   "outputs": [],
   "source": [
    "api_key = ''\n",
    "user = ''\n",
    "passwd = ''\n",
    "\n",
    "user = ''\n",
    "access = ''\n",
    "output = ''"
   ]
  },
  {
   "cell_type": "markdown",
   "metadata": {},
   "source": [
    "### Design Start and End Dates"
   ]
  },
  {
   "cell_type": "code",
   "execution_count": null,
   "metadata": {},
   "outputs": [],
   "source": [
    "year = 2019\n",
    "month = 7\n",
    "\n",
    "month_start = str(month).zfill(2)\n",
    "month_end = str(month).zfill(2)\n",
    "\n",
    "print(year, month, month_start, month_end)"
   ]
  },
  {
   "cell_type": "markdown",
   "metadata": {},
   "source": [
    "### Build Query"
   ]
  },
  {
   "cell_type": "code",
   "execution_count": null,
   "metadata": {},
   "outputs": [],
   "source": [
    "headers = {'Accept': 'application/{}'.format(output),\n",
    "           'Content-Type': 'application/{}'.format(output)}\n",
    "\n",
    "call_url = 'http://slimtimer.com/users/{}/time_entries'.format(user)\n",
    "\n",
    "params = {'api_key': api_key,\n",
    "          'access_token': access,\n",
    "          'offset': '0',\n",
    "          'range_start': '{}-{}-{} 00:00:00'.format(year, month, month_start),\n",
    "          'range_end': '{}-{}-{} 23:59:59'.format(year, month, month_end)}"
   ]
  },
  {
   "cell_type": "markdown",
   "metadata": {},
   "source": [
    "### Request Data"
   ]
  },
  {
   "cell_type": "code",
   "execution_count": null,
   "metadata": {},
   "outputs": [],
   "source": [
    "request = requests.get(call_url, params=params, headers=headers)\n",
    "request.text"
   ]
  }
 ],
 "metadata": {
  "hide_input": false,
  "kernelspec": {
   "display_name": "Python 3",
   "language": "python",
   "name": "python3"
  },
  "language_info": {
   "codemirror_mode": {
    "name": "ipython",
    "version": 3
   },
   "file_extension": ".py",
   "mimetype": "text/x-python",
   "name": "python",
   "nbconvert_exporter": "python",
   "pygments_lexer": "ipython3",
   "version": "3.7.0"
  }
 },
 "nbformat": 4,
 "nbformat_minor": 2
}
